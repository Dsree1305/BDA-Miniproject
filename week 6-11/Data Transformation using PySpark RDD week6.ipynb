{
 "cells": [
  {
   "cell_type": "code",
   "execution_count": 1,
   "id": "bc1a36d4-a037-4a6f-9d11-f2f741d96062",
   "metadata": {},
   "outputs": [
    {
     "data": {
      "text/html": [
       "\n",
       "        <div>\n",
       "            <p><b>SparkContext</b></p>\n",
       "\n",
       "            <p><a href=\"http://DESKTOP-OAQ0EE3:4040\">Spark UI</a></p>\n",
       "\n",
       "            <dl>\n",
       "              <dt>Version</dt>\n",
       "                <dd><code>v4.0.1</code></dd>\n",
       "              <dt>Master</dt>\n",
       "                <dd><code>local[*]</code></dd>\n",
       "              <dt>AppName</dt>\n",
       "                <dd><code>PySparkShell</code></dd>\n",
       "            </dl>\n",
       "        </div>\n",
       "        "
      ],
      "text/plain": [
       "<SparkContext master=local[*] appName=PySparkShell>"
      ]
     },
     "execution_count": 1,
     "metadata": {},
     "output_type": "execute_result"
    }
   ],
   "source": [
    "sc"
   ]
  },
  {
   "cell_type": "code",
   "execution_count": 2,
   "id": "3d057b4b-05ac-475e-b79b-b5f263394b2a",
   "metadata": {},
   "outputs": [],
   "source": [
    "import random"
   ]
  },
  {
   "cell_type": "code",
   "execution_count": 3,
   "id": "a1139b07-1898-4757-82b1-26820cc87f08",
   "metadata": {},
   "outputs": [
    {
     "name": "stdout",
     "output_type": "stream",
     "text": [
      "Original List:\n",
      "[513, 101, 610, 290, 995, 736, 883, 482, 618, 93, 783, 479, 33, 805, 62, 910, 250, 632, 824, 266, 322, 505, 921, 400, 432, 521, 289, 863, 841, 354, 782, 102, 862, 981, 11, 466, 719, 820, 620, 792, 329, 428, 922, 452, 19, 902, 809, 191, 244, 639, 510, 14, 31, 922, 367, 875, 261, 311, 182, 9, 366, 252, 365, 732, 264, 817, 356, 565, 490, 347, 957, 505, 955, 965, 160, 27, 542, 41, 213, 100, 835, 49, 601, 632, 862, 765, 539, 214, 30, 192, 157, 613, 695, 96, 610, 94, 465, 555, 6, 2]\n"
     ]
    }
   ],
   "source": [
    "random_numbers = [random.randint(1, 1000) for _ in range(100)]\n",
    "print(\"Original List:\")\n",
    "print(random_numbers)\n"
   ]
  },
  {
   "cell_type": "code",
   "execution_count": 4,
   "id": "f535d78c-9aec-4a5e-bb72-c1210fd1a9e4",
   "metadata": {},
   "outputs": [],
   "source": [
    "numbers_rdd = sc.parallelize(random_numbers)"
   ]
  },
  {
   "cell_type": "code",
   "execution_count": 5,
   "id": "c8d2fc90-ec29-48ae-b499-54cc7f8395a0",
   "metadata": {},
   "outputs": [],
   "source": [
    "even_numbers_rdd = numbers_rdd.filter(lambda x: x % 2 == 0)"
   ]
  },
  {
   "cell_type": "code",
   "execution_count": 6,
   "id": "96131e83-1a53-4fe9-a5e1-fdc87e556197",
   "metadata": {},
   "outputs": [
    {
     "name": "stdout",
     "output_type": "stream",
     "text": [
      "\n",
      "Even Numbers:\n",
      "[610, 290, 736, 482, 618, 62, 910, 250, 632, 824, 266, 322, 400, 432, 354, 782, 102, 862, 466, 820, 620, 792, 428, 922, 452, 902, 244, 510, 14, 922, 182, 366, 252, 732, 264, 356, 490, 160, 542, 100, 632, 862, 214, 30, 192, 96, 610, 94, 6, 2]\n"
     ]
    }
   ],
   "source": [
    "even_numbers = even_numbers_rdd.collect()\n",
    "print(\"\\nEven Numbers:\")\n",
    "print(even_numbers)\n"
   ]
  },
  {
   "cell_type": "code",
   "execution_count": null,
   "id": "2a9bde68-1728-4418-9d7d-8025832b4892",
   "metadata": {},
   "outputs": [],
   "source": []
  }
 ],
 "metadata": {
  "kernelspec": {
   "display_name": "Python 3 (ipykernel)",
   "language": "python",
   "name": "python3"
  },
  "language_info": {
   "codemirror_mode": {
    "name": "ipython",
    "version": 3
   },
   "file_extension": ".py",
   "mimetype": "text/x-python",
   "name": "python",
   "nbconvert_exporter": "python",
   "pygments_lexer": "ipython3",
   "version": "3.10.11"
  }
 },
 "nbformat": 4,
 "nbformat_minor": 5
}
